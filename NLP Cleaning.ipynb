{
 "cells": [
  {
   "cell_type": "code",
   "execution_count": 1,
   "id": "22c73232",
   "metadata": {},
   "outputs": [],
   "source": [
    "import pandas as pd\n",
    "import numpy as np"
   ]
  },
  {
   "cell_type": "markdown",
   "id": "1a301af4",
   "metadata": {},
   "source": [
    "# Data loading"
   ]
  },
  {
   "cell_type": "code",
   "execution_count": 2,
   "id": "52ecdc8c",
   "metadata": {},
   "outputs": [
    {
     "data": {
      "text/html": [
       "<div>\n",
       "<style scoped>\n",
       "    .dataframe tbody tr th:only-of-type {\n",
       "        vertical-align: middle;\n",
       "    }\n",
       "\n",
       "    .dataframe tbody tr th {\n",
       "        vertical-align: top;\n",
       "    }\n",
       "\n",
       "    .dataframe thead th {\n",
       "        text-align: right;\n",
       "    }\n",
       "</style>\n",
       "<table border=\"1\" class=\"dataframe\">\n",
       "  <thead>\n",
       "    <tr style=\"text-align: right;\">\n",
       "      <th></th>\n",
       "      <th>user_name</th>\n",
       "      <th>user_location</th>\n",
       "      <th>user_description</th>\n",
       "      <th>user_created</th>\n",
       "      <th>user_followers</th>\n",
       "      <th>user_friends</th>\n",
       "      <th>user_favourites</th>\n",
       "      <th>user_verified</th>\n",
       "      <th>date</th>\n",
       "      <th>text</th>\n",
       "      <th>hashtags</th>\n",
       "      <th>source</th>\n",
       "      <th>is_retweet</th>\n",
       "    </tr>\n",
       "  </thead>\n",
       "  <tbody>\n",
       "    <tr>\n",
       "      <th>0</th>\n",
       "      <td>ᏉᎥ☻լꂅϮ</td>\n",
       "      <td>astroworld</td>\n",
       "      <td>wednesday addams as a disney princess keepin i...</td>\n",
       "      <td>2017-05-26 05:46:42</td>\n",
       "      <td>624</td>\n",
       "      <td>950</td>\n",
       "      <td>18775</td>\n",
       "      <td>False</td>\n",
       "      <td>2020-07-25 12:27:21</td>\n",
       "      <td>If I smelled the scent of hand sanitizers toda...</td>\n",
       "      <td>NaN</td>\n",
       "      <td>Twitter for iPhone</td>\n",
       "      <td>False</td>\n",
       "    </tr>\n",
       "    <tr>\n",
       "      <th>1</th>\n",
       "      <td>Tom Basile 🇺🇸</td>\n",
       "      <td>New York, NY</td>\n",
       "      <td>Husband, Father, Columnist &amp; Commentator. Auth...</td>\n",
       "      <td>2009-04-16 20:06:23</td>\n",
       "      <td>2253</td>\n",
       "      <td>1677</td>\n",
       "      <td>24</td>\n",
       "      <td>True</td>\n",
       "      <td>2020-07-25 12:27:17</td>\n",
       "      <td>Hey @Yankees @YankeesPR and @MLB - wouldn't it...</td>\n",
       "      <td>NaN</td>\n",
       "      <td>Twitter for Android</td>\n",
       "      <td>False</td>\n",
       "    </tr>\n",
       "    <tr>\n",
       "      <th>2</th>\n",
       "      <td>Time4fisticuffs</td>\n",
       "      <td>Pewee Valley, KY</td>\n",
       "      <td>#Christian #Catholic #Conservative #Reagan #Re...</td>\n",
       "      <td>2009-02-28 18:57:41</td>\n",
       "      <td>9275</td>\n",
       "      <td>9525</td>\n",
       "      <td>7254</td>\n",
       "      <td>False</td>\n",
       "      <td>2020-07-25 12:27:14</td>\n",
       "      <td>@diane3443 @wdunlap @realDonaldTrump Trump nev...</td>\n",
       "      <td>['COVID19']</td>\n",
       "      <td>Twitter for Android</td>\n",
       "      <td>False</td>\n",
       "    </tr>\n",
       "    <tr>\n",
       "      <th>3</th>\n",
       "      <td>ethel mertz</td>\n",
       "      <td>Stuck in the Middle</td>\n",
       "      <td>#Browns #Indians #ClevelandProud #[]_[] #Cavs ...</td>\n",
       "      <td>2019-03-07 01:45:06</td>\n",
       "      <td>197</td>\n",
       "      <td>987</td>\n",
       "      <td>1488</td>\n",
       "      <td>False</td>\n",
       "      <td>2020-07-25 12:27:10</td>\n",
       "      <td>@brookbanktv The one gift #COVID19 has give me...</td>\n",
       "      <td>['COVID19']</td>\n",
       "      <td>Twitter for iPhone</td>\n",
       "      <td>False</td>\n",
       "    </tr>\n",
       "    <tr>\n",
       "      <th>4</th>\n",
       "      <td>DIPR-J&amp;K</td>\n",
       "      <td>Jammu and Kashmir</td>\n",
       "      <td>🖊️Official Twitter handle of Department of Inf...</td>\n",
       "      <td>2017-02-12 06:45:15</td>\n",
       "      <td>101009</td>\n",
       "      <td>168</td>\n",
       "      <td>101</td>\n",
       "      <td>False</td>\n",
       "      <td>2020-07-25 12:27:08</td>\n",
       "      <td>25 July : Media Bulletin on Novel #CoronaVirus...</td>\n",
       "      <td>['CoronaVirusUpdates', 'COVID19']</td>\n",
       "      <td>Twitter for Android</td>\n",
       "      <td>False</td>\n",
       "    </tr>\n",
       "    <tr>\n",
       "      <th>...</th>\n",
       "      <td>...</td>\n",
       "      <td>...</td>\n",
       "      <td>...</td>\n",
       "      <td>...</td>\n",
       "      <td>...</td>\n",
       "      <td>...</td>\n",
       "      <td>...</td>\n",
       "      <td>...</td>\n",
       "      <td>...</td>\n",
       "      <td>...</td>\n",
       "      <td>...</td>\n",
       "      <td>...</td>\n",
       "      <td>...</td>\n",
       "    </tr>\n",
       "    <tr>\n",
       "      <th>179103</th>\n",
       "      <td>AJIMATI AbdulRahman O.</td>\n",
       "      <td>Ilorin, Nigeria</td>\n",
       "      <td>Animal Scientist|| Muslim|| Real Madrid/Chelsea</td>\n",
       "      <td>2013-12-30 18:59:19</td>\n",
       "      <td>412</td>\n",
       "      <td>1609</td>\n",
       "      <td>1062</td>\n",
       "      <td>False</td>\n",
       "      <td>2020-08-29 19:44:21</td>\n",
       "      <td>Thanks @IamOhmai for nominating me for the @WH...</td>\n",
       "      <td>['WearAMask']</td>\n",
       "      <td>Twitter for Android</td>\n",
       "      <td>False</td>\n",
       "    </tr>\n",
       "    <tr>\n",
       "      <th>179104</th>\n",
       "      <td>Jason</td>\n",
       "      <td>Ontario</td>\n",
       "      <td>When your cat has more baking soda than Ninja ...</td>\n",
       "      <td>2011-12-21 04:41:30</td>\n",
       "      <td>150</td>\n",
       "      <td>182</td>\n",
       "      <td>7295</td>\n",
       "      <td>False</td>\n",
       "      <td>2020-08-29 19:44:16</td>\n",
       "      <td>2020! The year of insanity! Lol! #COVID19 http...</td>\n",
       "      <td>['COVID19']</td>\n",
       "      <td>Twitter for Android</td>\n",
       "      <td>False</td>\n",
       "    </tr>\n",
       "    <tr>\n",
       "      <th>179105</th>\n",
       "      <td>BEEHEMOTH ⏳</td>\n",
       "      <td>🇨🇦 Canada</td>\n",
       "      <td>⚒️ The Architects of Free Trade ⚒️ Really Did ...</td>\n",
       "      <td>2016-07-13 17:21:59</td>\n",
       "      <td>1623</td>\n",
       "      <td>2160</td>\n",
       "      <td>98000</td>\n",
       "      <td>False</td>\n",
       "      <td>2020-08-29 19:44:15</td>\n",
       "      <td>@CTVNews A powerful painting by Juan Lucena. I...</td>\n",
       "      <td>NaN</td>\n",
       "      <td>Twitter Web App</td>\n",
       "      <td>False</td>\n",
       "    </tr>\n",
       "    <tr>\n",
       "      <th>179106</th>\n",
       "      <td>Gary DelPonte</td>\n",
       "      <td>New York City</td>\n",
       "      <td>Global UX UI Visual Designer. StoryTeller, Mus...</td>\n",
       "      <td>2009-10-27 17:43:13</td>\n",
       "      <td>1338</td>\n",
       "      <td>1111</td>\n",
       "      <td>0</td>\n",
       "      <td>False</td>\n",
       "      <td>2020-08-29 19:44:14</td>\n",
       "      <td>More than 1,200 students test positive for #CO...</td>\n",
       "      <td>['COVID19']</td>\n",
       "      <td>Twitter for iPhone</td>\n",
       "      <td>False</td>\n",
       "    </tr>\n",
       "    <tr>\n",
       "      <th>179107</th>\n",
       "      <td>TUKY II</td>\n",
       "      <td>Aliwal North, South Africa</td>\n",
       "      <td>TOKELO SEKHOPA | TUKY II | LAST BORN | EISH TU...</td>\n",
       "      <td>2018-04-14 17:30:07</td>\n",
       "      <td>97</td>\n",
       "      <td>1697</td>\n",
       "      <td>566</td>\n",
       "      <td>False</td>\n",
       "      <td>2020-08-29 19:44:08</td>\n",
       "      <td>I stop when I see a Stop\\n\\n@SABCNews\\n@Izinda...</td>\n",
       "      <td>NaN</td>\n",
       "      <td>Twitter for Android</td>\n",
       "      <td>False</td>\n",
       "    </tr>\n",
       "  </tbody>\n",
       "</table>\n",
       "<p>179108 rows × 13 columns</p>\n",
       "</div>"
      ],
      "text/plain": [
       "                     user_name               user_location  \\\n",
       "0                       ᏉᎥ☻լꂅϮ                  astroworld   \n",
       "1                Tom Basile 🇺🇸                New York, NY   \n",
       "2              Time4fisticuffs            Pewee Valley, KY   \n",
       "3                  ethel mertz        Stuck in the Middle    \n",
       "4                     DIPR-J&K           Jammu and Kashmir   \n",
       "...                        ...                         ...   \n",
       "179103  AJIMATI AbdulRahman O.             Ilorin, Nigeria   \n",
       "179104                   Jason                     Ontario   \n",
       "179105             BEEHEMOTH ⏳                   🇨🇦 Canada   \n",
       "179106           Gary DelPonte               New York City   \n",
       "179107                 TUKY II  Aliwal North, South Africa   \n",
       "\n",
       "                                         user_description  \\\n",
       "0       wednesday addams as a disney princess keepin i...   \n",
       "1       Husband, Father, Columnist & Commentator. Auth...   \n",
       "2       #Christian #Catholic #Conservative #Reagan #Re...   \n",
       "3       #Browns #Indians #ClevelandProud #[]_[] #Cavs ...   \n",
       "4       🖊️Official Twitter handle of Department of Inf...   \n",
       "...                                                   ...   \n",
       "179103    Animal Scientist|| Muslim|| Real Madrid/Chelsea   \n",
       "179104  When your cat has more baking soda than Ninja ...   \n",
       "179105  ⚒️ The Architects of Free Trade ⚒️ Really Did ...   \n",
       "179106  Global UX UI Visual Designer. StoryTeller, Mus...   \n",
       "179107  TOKELO SEKHOPA | TUKY II | LAST BORN | EISH TU...   \n",
       "\n",
       "               user_created  user_followers  user_friends  user_favourites  \\\n",
       "0       2017-05-26 05:46:42             624           950            18775   \n",
       "1       2009-04-16 20:06:23            2253          1677               24   \n",
       "2       2009-02-28 18:57:41            9275          9525             7254   \n",
       "3       2019-03-07 01:45:06             197           987             1488   \n",
       "4       2017-02-12 06:45:15          101009           168              101   \n",
       "...                     ...             ...           ...              ...   \n",
       "179103  2013-12-30 18:59:19             412          1609             1062   \n",
       "179104  2011-12-21 04:41:30             150           182             7295   \n",
       "179105  2016-07-13 17:21:59            1623          2160            98000   \n",
       "179106  2009-10-27 17:43:13            1338          1111                0   \n",
       "179107  2018-04-14 17:30:07              97          1697              566   \n",
       "\n",
       "        user_verified                 date  \\\n",
       "0               False  2020-07-25 12:27:21   \n",
       "1                True  2020-07-25 12:27:17   \n",
       "2               False  2020-07-25 12:27:14   \n",
       "3               False  2020-07-25 12:27:10   \n",
       "4               False  2020-07-25 12:27:08   \n",
       "...               ...                  ...   \n",
       "179103          False  2020-08-29 19:44:21   \n",
       "179104          False  2020-08-29 19:44:16   \n",
       "179105          False  2020-08-29 19:44:15   \n",
       "179106          False  2020-08-29 19:44:14   \n",
       "179107          False  2020-08-29 19:44:08   \n",
       "\n",
       "                                                     text  \\\n",
       "0       If I smelled the scent of hand sanitizers toda...   \n",
       "1       Hey @Yankees @YankeesPR and @MLB - wouldn't it...   \n",
       "2       @diane3443 @wdunlap @realDonaldTrump Trump nev...   \n",
       "3       @brookbanktv The one gift #COVID19 has give me...   \n",
       "4       25 July : Media Bulletin on Novel #CoronaVirus...   \n",
       "...                                                   ...   \n",
       "179103  Thanks @IamOhmai for nominating me for the @WH...   \n",
       "179104  2020! The year of insanity! Lol! #COVID19 http...   \n",
       "179105  @CTVNews A powerful painting by Juan Lucena. I...   \n",
       "179106  More than 1,200 students test positive for #CO...   \n",
       "179107  I stop when I see a Stop\\n\\n@SABCNews\\n@Izinda...   \n",
       "\n",
       "                                 hashtags               source  is_retweet  \n",
       "0                                     NaN   Twitter for iPhone       False  \n",
       "1                                     NaN  Twitter for Android       False  \n",
       "2                             ['COVID19']  Twitter for Android       False  \n",
       "3                             ['COVID19']   Twitter for iPhone       False  \n",
       "4       ['CoronaVirusUpdates', 'COVID19']  Twitter for Android       False  \n",
       "...                                   ...                  ...         ...  \n",
       "179103                      ['WearAMask']  Twitter for Android       False  \n",
       "179104                        ['COVID19']  Twitter for Android       False  \n",
       "179105                                NaN      Twitter Web App       False  \n",
       "179106                        ['COVID19']   Twitter for iPhone       False  \n",
       "179107                                NaN  Twitter for Android       False  \n",
       "\n",
       "[179108 rows x 13 columns]"
      ]
     },
     "execution_count": 2,
     "metadata": {},
     "output_type": "execute_result"
    }
   ],
   "source": [
    "data = pd.read_csv(\"covid19_tweets.csv\")\n",
    "data"
   ]
  },
  {
   "cell_type": "code",
   "execution_count": 3,
   "id": "1d155a65",
   "metadata": {},
   "outputs": [
    {
     "name": "stderr",
     "output_type": "stream",
     "text": [
      "[nltk_data] Downloading package punkt to\n",
      "[nltk_data]     C:\\Users\\Lenovo\\AppData\\Roaming\\nltk_data...\n",
      "[nltk_data]   Unzipping tokenizers\\punkt.zip.\n",
      "[nltk_data] Downloading package stopwords to\n",
      "[nltk_data]     C:\\Users\\Lenovo\\AppData\\Roaming\\nltk_data...\n",
      "[nltk_data]   Unzipping corpora\\stopwords.zip.\n"
     ]
    }
   ],
   "source": [
    "import nltk\n",
    "import re\n",
    "nltk.download('punkt') # one time execution\n",
    "nltk.download('stopwords')\n",
    "from nltk.corpus import stopwords\n",
    "stop_words = set(stopwords.words('english'))\n",
    "from string import punctuation"
   ]
  },
  {
   "cell_type": "markdown",
   "id": "eb9decca",
   "metadata": {},
   "source": [
    "# Remove punctuation"
   ]
  },
  {
   "cell_type": "code",
   "execution_count": 4,
   "id": "042fc0cf",
   "metadata": {},
   "outputs": [
    {
     "data": {
      "text/plain": [
       "'hello world'"
      ]
     },
     "execution_count": 4,
     "metadata": {},
     "output_type": "execute_result"
    }
   ],
   "source": [
    "def remove_punctuation(text):\n",
    "    punctuationfree=\"\".join([i for i in text if i not in punctuation])\n",
    "    return punctuationfree\n",
    "remove_punctuation(\"hello world!!!\")"
   ]
  },
  {
   "cell_type": "code",
   "execution_count": 5,
   "id": "1964e749",
   "metadata": {},
   "outputs": [
    {
     "data": {
      "text/plain": [
       "0         If I smelled the scent of hand sanitizers toda...\n",
       "1         Hey Yankees YankeesPR and MLB  wouldnt it have...\n",
       "2         diane3443 wdunlap realDonaldTrump Trump never ...\n",
       "3         brookbanktv The one gift COVID19 has give me i...\n",
       "4         25 July  Media Bulletin on Novel CoronaVirusUp...\n",
       "                                ...                        \n",
       "179103    Thanks IamOhmai for nominating me for the WHO ...\n",
       "179104    2020 The year of insanity Lol COVID19 httpstco...\n",
       "179105    CTVNews A powerful painting by Juan Lucena Its...\n",
       "179106    More than 1200 students test positive for COVI...\n",
       "179107    I stop when I see a Stop\\n\\nSABCNews\\nIzindaba...\n",
       "Name: text, Length: 179108, dtype: object"
      ]
     },
     "execution_count": 5,
     "metadata": {},
     "output_type": "execute_result"
    }
   ],
   "source": [
    "data.text = data.text.apply(remove_punctuation)\n",
    "data.text"
   ]
  },
  {
   "cell_type": "markdown",
   "id": "9f77b727",
   "metadata": {},
   "source": [
    "# Lowering"
   ]
  },
  {
   "cell_type": "code",
   "execution_count": 6,
   "id": "7fae933c",
   "metadata": {},
   "outputs": [
    {
     "data": {
      "text/plain": [
       "'hello world'"
      ]
     },
     "execution_count": 6,
     "metadata": {},
     "output_type": "execute_result"
    }
   ],
   "source": [
    "\"Hello World\".lower()"
   ]
  },
  {
   "cell_type": "code",
   "execution_count": 7,
   "id": "7fa6794c",
   "metadata": {},
   "outputs": [
    {
     "data": {
      "text/plain": [
       "0         if i smelled the scent of hand sanitizers toda...\n",
       "1         hey yankees yankeespr and mlb  wouldnt it have...\n",
       "2         diane3443 wdunlap realdonaldtrump trump never ...\n",
       "3         brookbanktv the one gift covid19 has give me i...\n",
       "4         25 july  media bulletin on novel coronavirusup...\n",
       "                                ...                        \n",
       "179103    thanks iamohmai for nominating me for the who ...\n",
       "179104    2020 the year of insanity lol covid19 httpstco...\n",
       "179105    ctvnews a powerful painting by juan lucena its...\n",
       "179106    more than 1200 students test positive for covi...\n",
       "179107    i stop when i see a stop\\n\\nsabcnews\\nizindaba...\n",
       "Name: text, Length: 179108, dtype: object"
      ]
     },
     "execution_count": 7,
     "metadata": {},
     "output_type": "execute_result"
    }
   ],
   "source": [
    "data.text = data.text.apply(lambda x: x.lower())\n",
    "data.text"
   ]
  },
  {
   "cell_type": "markdown",
   "id": "51d73fde",
   "metadata": {},
   "source": [
    "# Demojize"
   ]
  },
  {
   "cell_type": "code",
   "execution_count": 8,
   "id": "764d712e",
   "metadata": {},
   "outputs": [
    {
     "data": {
      "text/plain": [
       "'Python is the :bomb:'"
      ]
     },
     "execution_count": 8,
     "metadata": {},
     "output_type": "execute_result"
    }
   ],
   "source": [
    "import emoji\n",
    "emoji.demojize('Python is the 💣')"
   ]
  },
  {
   "cell_type": "code",
   "execution_count": 9,
   "id": "ef1899db",
   "metadata": {},
   "outputs": [
    {
     "data": {
      "text/plain": [
       "0         if i smelled the scent of hand sanitizers toda...\n",
       "1         hey yankees yankeespr and mlb  wouldnt it have...\n",
       "2         diane3443 wdunlap realdonaldtrump trump never ...\n",
       "3         brookbanktv the one gift covid19 has give me i...\n",
       "4         25 july  media bulletin on novel coronavirusup...\n",
       "                                ...                        \n",
       "179103    thanks iamohmai for nominating me for the who ...\n",
       "179104    2020 the year of insanity lol covid19 httpstco...\n",
       "179105    ctvnews a powerful painting by juan lucena its...\n",
       "179106    more than 1200 students test positive for covi...\n",
       "179107    i stop when i see a stop\\n\\nsabcnews\\nizindaba...\n",
       "Name: text, Length: 179108, dtype: object"
      ]
     },
     "execution_count": 9,
     "metadata": {},
     "output_type": "execute_result"
    }
   ],
   "source": [
    "data.text = data.text.apply(lambda x: emoji.demojize(x))\n",
    "data.text"
   ]
  },
  {
   "cell_type": "markdown",
   "id": "408a7efa",
   "metadata": {},
   "source": [
    "# Tokenization"
   ]
  },
  {
   "cell_type": "code",
   "execution_count": 10,
   "id": "a400d953",
   "metadata": {},
   "outputs": [
    {
     "data": {
      "text/plain": [
       "0         [if, i, smelled, the, scent, of, hand, sanitiz...\n",
       "1         [hey, yankees, yankeespr, and, mlb, wouldnt, i...\n",
       "2         [diane3443, wdunlap, realdonaldtrump, trump, n...\n",
       "3         [brookbanktv, the, one, gift, covid19, has, gi...\n",
       "4         [25, july, media, bulletin, on, novel, coronav...\n",
       "                                ...                        \n",
       "179103    [thanks, iamohmai, for, nominating, me, for, t...\n",
       "179104    [2020, the, year, of, insanity, lol, covid19, ...\n",
       "179105    [ctvnews, a, powerful, painting, by, juan, luc...\n",
       "179106    [more, than, 1200, students, test, positive, f...\n",
       "179107    [i, stop, when, i, see, a, stop, sabcnews, izi...\n",
       "Name: text, Length: 179108, dtype: object"
      ]
     },
     "execution_count": 10,
     "metadata": {},
     "output_type": "execute_result"
    }
   ],
   "source": [
    "data.text = data.text.apply(nltk.word_tokenize)\n",
    "data.text"
   ]
  },
  {
   "cell_type": "code",
   "execution_count": 11,
   "id": "40a03df7",
   "metadata": {},
   "outputs": [
    {
     "data": {
      "text/plain": [
       "0         [smelled, scent, hand, sanitizers, today, some...\n",
       "1         [hey, yankees, yankeespr, mlb, wouldnt, made, ...\n",
       "2         [diane3443, wdunlap, realdonaldtrump, trump, n...\n",
       "3         [brookbanktv, one, gift, covid19, give, apprec...\n",
       "4         [25, july, media, bulletin, novel, coronavirus...\n",
       "                                ...                        \n",
       "179103    [thanks, iamohmai, nominating, wearamask, chal...\n",
       "179104    [2020, year, insanity, lol, covid19, httpstcoy...\n",
       "179105    [ctvnews, powerful, painting, juan, lucena, tr...\n",
       "179106    [1200, students, test, positive, covid19, majo...\n",
       "179107    [stop, see, stop, sabcnews, izindabanews24, da...\n",
       "Name: text, Length: 179108, dtype: object"
      ]
     },
     "execution_count": 11,
     "metadata": {},
     "output_type": "execute_result"
    }
   ],
   "source": [
    "data.text = data.text.apply(lambda x: [word for word in x if word not in stop_words])\n",
    "data.text"
   ]
  },
  {
   "cell_type": "markdown",
   "id": "24fda7b1",
   "metadata": {},
   "source": [
    "# Stemming"
   ]
  },
  {
   "cell_type": "code",
   "execution_count": 12,
   "id": "56177c10",
   "metadata": {},
   "outputs": [],
   "source": [
    "from nltk.stem.porter import PorterStemmer\n",
    "porter_stemmer = PorterStemmer()\n",
    "def stemming(text): \n",
    "    stem_text = [porter_stemmer.stem(word) for word in text] \n",
    "    return stem_text "
   ]
  },
  {
   "cell_type": "code",
   "execution_count": 13,
   "id": "f360fedb",
   "metadata": {},
   "outputs": [
    {
     "data": {
      "text/plain": [
       "0         [smell, scent, hand, sanit, today, someon, pas...\n",
       "1         [hey, yanke, yankeespr, mlb, wouldnt, made, se...\n",
       "2         [diane3443, wdunlap, realdonaldtrump, trump, n...\n",
       "3         [brookbanktv, one, gift, covid19, give, apprec...\n",
       "4         [25, juli, media, bulletin, novel, coronavirus...\n",
       "                                ...                        \n",
       "179103    [thank, iamohmai, nomin, wearamask, challeng, ...\n",
       "179104    [2020, year, insan, lol, covid19, httpstcoy48n...\n",
       "179105    [ctvnew, power, paint, juan, lucena, tribut, g...\n",
       "179106    [1200, student, test, posit, covid19, major, u...\n",
       "179107    [stop, see, stop, sabcnew, izindabanews24, dai...\n",
       "Name: text, Length: 179108, dtype: object"
      ]
     },
     "execution_count": 13,
     "metadata": {},
     "output_type": "execute_result"
    }
   ],
   "source": [
    "data.text = data.text.apply(stemming)\n",
    "data.text"
   ]
  },
  {
   "cell_type": "markdown",
   "id": "5dfdd9a4",
   "metadata": {},
   "source": [
    "# Example of One-hot Vector"
   ]
  },
  {
   "cell_type": "code",
   "execution_count": 27,
   "id": "b98750e3",
   "metadata": {},
   "outputs": [
    {
     "name": "stdout",
     "output_type": "stream",
     "text": [
      "[['Hello']\n",
      " ['world']]\n",
      "[[1. 0. 0. 0. 0. 0. 0. 0.]\n",
      " [0. 0. 0. 0. 0. 0. 0. 1.]]\n"
     ]
    }
   ],
   "source": [
    "from sklearn.preprocessing import OneHotEncoder\n",
    "\n",
    "\n",
    "enc = OneHotEncoder()\n",
    "\n",
    "sent_1 = np.array([\"Hello\", \"world\"]).reshape(-1, 1)\n",
    "sent_2 = np.array([\"Hello\", \"world\", \"is\", \"the\", \"initial\", \"step\", \"of\", \"programming\"]).reshape(-1, 1)\n",
    "enc.fit(sent_2)\n",
    "print(enc.transform(sent_1).toarray())\n"
   ]
  },
  {
   "cell_type": "markdown",
   "id": "2e2853aa",
   "metadata": {},
   "source": [
    "# Do vectorization"
   ]
  },
  {
   "cell_type": "code",
   "execution_count": 28,
   "id": "a110a300",
   "metadata": {},
   "outputs": [
    {
     "data": {
      "text/html": [
       "<div>\n",
       "<style scoped>\n",
       "    .dataframe tbody tr th:only-of-type {\n",
       "        vertical-align: middle;\n",
       "    }\n",
       "\n",
       "    .dataframe tbody tr th {\n",
       "        vertical-align: top;\n",
       "    }\n",
       "\n",
       "    .dataframe thead th {\n",
       "        text-align: right;\n",
       "    }\n",
       "</style>\n",
       "<table border=\"1\" class=\"dataframe\">\n",
       "  <thead>\n",
       "    <tr style=\"text-align: right;\">\n",
       "      <th></th>\n",
       "      <th>user_name</th>\n",
       "      <th>user_location</th>\n",
       "      <th>user_description</th>\n",
       "      <th>user_created</th>\n",
       "      <th>user_followers</th>\n",
       "      <th>user_friends</th>\n",
       "      <th>user_favourites</th>\n",
       "      <th>user_verified</th>\n",
       "      <th>date</th>\n",
       "      <th>text</th>\n",
       "      <th>hashtags</th>\n",
       "      <th>source</th>\n",
       "      <th>is_retweet</th>\n",
       "    </tr>\n",
       "  </thead>\n",
       "  <tbody>\n",
       "    <tr>\n",
       "      <th>0</th>\n",
       "      <td>ᏉᎥ☻լꂅϮ</td>\n",
       "      <td>astroworld</td>\n",
       "      <td>wednesday addams as a disney princess keepin i...</td>\n",
       "      <td>2017-05-26 05:46:42</td>\n",
       "      <td>624</td>\n",
       "      <td>950</td>\n",
       "      <td>18775</td>\n",
       "      <td>False</td>\n",
       "      <td>2020-07-25 12:27:21</td>\n",
       "      <td>[smell, scent, hand, sanit, today, someon, pas...</td>\n",
       "      <td>NaN</td>\n",
       "      <td>Twitter for iPhone</td>\n",
       "      <td>False</td>\n",
       "    </tr>\n",
       "    <tr>\n",
       "      <th>1</th>\n",
       "      <td>Tom Basile 🇺🇸</td>\n",
       "      <td>New York, NY</td>\n",
       "      <td>Husband, Father, Columnist &amp; Commentator. Auth...</td>\n",
       "      <td>2009-04-16 20:06:23</td>\n",
       "      <td>2253</td>\n",
       "      <td>1677</td>\n",
       "      <td>24</td>\n",
       "      <td>True</td>\n",
       "      <td>2020-07-25 12:27:17</td>\n",
       "      <td>[hey, yanke, yankeespr, mlb, wouldnt, made, se...</td>\n",
       "      <td>NaN</td>\n",
       "      <td>Twitter for Android</td>\n",
       "      <td>False</td>\n",
       "    </tr>\n",
       "    <tr>\n",
       "      <th>2</th>\n",
       "      <td>Time4fisticuffs</td>\n",
       "      <td>Pewee Valley, KY</td>\n",
       "      <td>#Christian #Catholic #Conservative #Reagan #Re...</td>\n",
       "      <td>2009-02-28 18:57:41</td>\n",
       "      <td>9275</td>\n",
       "      <td>9525</td>\n",
       "      <td>7254</td>\n",
       "      <td>False</td>\n",
       "      <td>2020-07-25 12:27:14</td>\n",
       "      <td>[diane3443, wdunlap, realdonaldtrump, trump, n...</td>\n",
       "      <td>['COVID19']</td>\n",
       "      <td>Twitter for Android</td>\n",
       "      <td>False</td>\n",
       "    </tr>\n",
       "    <tr>\n",
       "      <th>3</th>\n",
       "      <td>ethel mertz</td>\n",
       "      <td>Stuck in the Middle</td>\n",
       "      <td>#Browns #Indians #ClevelandProud #[]_[] #Cavs ...</td>\n",
       "      <td>2019-03-07 01:45:06</td>\n",
       "      <td>197</td>\n",
       "      <td>987</td>\n",
       "      <td>1488</td>\n",
       "      <td>False</td>\n",
       "      <td>2020-07-25 12:27:10</td>\n",
       "      <td>[brookbanktv, one, gift, covid19, give, apprec...</td>\n",
       "      <td>['COVID19']</td>\n",
       "      <td>Twitter for iPhone</td>\n",
       "      <td>False</td>\n",
       "    </tr>\n",
       "    <tr>\n",
       "      <th>4</th>\n",
       "      <td>DIPR-J&amp;K</td>\n",
       "      <td>Jammu and Kashmir</td>\n",
       "      <td>🖊️Official Twitter handle of Department of Inf...</td>\n",
       "      <td>2017-02-12 06:45:15</td>\n",
       "      <td>101009</td>\n",
       "      <td>168</td>\n",
       "      <td>101</td>\n",
       "      <td>False</td>\n",
       "      <td>2020-07-25 12:27:08</td>\n",
       "      <td>[25, juli, media, bulletin, novel, coronavirus...</td>\n",
       "      <td>['CoronaVirusUpdates', 'COVID19']</td>\n",
       "      <td>Twitter for Android</td>\n",
       "      <td>False</td>\n",
       "    </tr>\n",
       "    <tr>\n",
       "      <th>5</th>\n",
       "      <td>🎹 Franz Schubert</td>\n",
       "      <td>Новоро́ссия</td>\n",
       "      <td>🎼  #Новоро́ссия #Novorossiya #оставайсядома #S...</td>\n",
       "      <td>2018-03-19 16:29:52</td>\n",
       "      <td>1180</td>\n",
       "      <td>1071</td>\n",
       "      <td>1287</td>\n",
       "      <td>False</td>\n",
       "      <td>2020-07-25 12:27:06</td>\n",
       "      <td>[coronaviru, covid19, death, continu, rise, al...</td>\n",
       "      <td>['coronavirus', 'covid19']</td>\n",
       "      <td>Twitter Web App</td>\n",
       "      <td>False</td>\n",
       "    </tr>\n",
       "    <tr>\n",
       "      <th>6</th>\n",
       "      <td>hr bartender</td>\n",
       "      <td>Gainesville, FL</td>\n",
       "      <td>Workplace tips and advice served up in a frien...</td>\n",
       "      <td>2008-08-12 18:19:49</td>\n",
       "      <td>79956</td>\n",
       "      <td>54810</td>\n",
       "      <td>3801</td>\n",
       "      <td>False</td>\n",
       "      <td>2020-07-25 12:27:03</td>\n",
       "      <td>[covid19, chang, work, gener, recruit, specif,...</td>\n",
       "      <td>['COVID19', 'Recruiting']</td>\n",
       "      <td>Buffer</td>\n",
       "      <td>False</td>\n",
       "    </tr>\n",
       "    <tr>\n",
       "      <th>7</th>\n",
       "      <td>Derbyshire LPC</td>\n",
       "      <td>NaN</td>\n",
       "      <td>NaN</td>\n",
       "      <td>2012-02-03 18:08:10</td>\n",
       "      <td>608</td>\n",
       "      <td>355</td>\n",
       "      <td>95</td>\n",
       "      <td>False</td>\n",
       "      <td>2020-07-25 12:27:00</td>\n",
       "      <td>[wear, face, cover, shop, includ, visit, local...</td>\n",
       "      <td>NaN</td>\n",
       "      <td>TweetDeck</td>\n",
       "      <td>False</td>\n",
       "    </tr>\n",
       "    <tr>\n",
       "      <th>8</th>\n",
       "      <td>Prathamesh Bendre</td>\n",
       "      <td>NaN</td>\n",
       "      <td>A poet, reiki practitioner and a student of law.</td>\n",
       "      <td>2015-04-25 08:15:41</td>\n",
       "      <td>25</td>\n",
       "      <td>29</td>\n",
       "      <td>18</td>\n",
       "      <td>False</td>\n",
       "      <td>2020-07-25 12:26:59</td>\n",
       "      <td>[pray, good, health, recoveri, chouhanshivraj,...</td>\n",
       "      <td>['covid19', 'covidPositive']</td>\n",
       "      <td>Twitter for Android</td>\n",
       "      <td>False</td>\n",
       "    </tr>\n",
       "    <tr>\n",
       "      <th>9</th>\n",
       "      <td>Member of Christ 🇨🇳🇺🇸🇮🇳🇮🇩🇧🇷🇳🇬🇧🇩🇷🇺</td>\n",
       "      <td>👇🏻location at link below👇🏻</td>\n",
       "      <td>Just as the body is one &amp; has many members, &amp; ...</td>\n",
       "      <td>2014-08-17 04:53:22</td>\n",
       "      <td>55201</td>\n",
       "      <td>34239</td>\n",
       "      <td>29802</td>\n",
       "      <td>False</td>\n",
       "      <td>2020-07-25 12:26:54</td>\n",
       "      <td>[pope, god, prophet, sadhu, sundar, selvaraj, ...</td>\n",
       "      <td>['HurricaneHanna', 'COVID19']</td>\n",
       "      <td>Twitter for iPhone</td>\n",
       "      <td>False</td>\n",
       "    </tr>\n",
       "  </tbody>\n",
       "</table>\n",
       "</div>"
      ],
      "text/plain": [
       "                           user_name               user_location  \\\n",
       "0                             ᏉᎥ☻լꂅϮ                  astroworld   \n",
       "1                      Tom Basile 🇺🇸                New York, NY   \n",
       "2                    Time4fisticuffs            Pewee Valley, KY   \n",
       "3                        ethel mertz        Stuck in the Middle    \n",
       "4                           DIPR-J&K           Jammu and Kashmir   \n",
       "5                   🎹 Franz Schubert                 Новоро́ссия   \n",
       "6                       hr bartender             Gainesville, FL   \n",
       "7                     Derbyshire LPC                         NaN   \n",
       "8                  Prathamesh Bendre                         NaN   \n",
       "9  Member of Christ 🇨🇳🇺🇸🇮🇳🇮🇩🇧🇷🇳🇬🇧🇩🇷🇺  👇🏻location at link below👇🏻   \n",
       "\n",
       "                                    user_description         user_created  \\\n",
       "0  wednesday addams as a disney princess keepin i...  2017-05-26 05:46:42   \n",
       "1  Husband, Father, Columnist & Commentator. Auth...  2009-04-16 20:06:23   \n",
       "2  #Christian #Catholic #Conservative #Reagan #Re...  2009-02-28 18:57:41   \n",
       "3  #Browns #Indians #ClevelandProud #[]_[] #Cavs ...  2019-03-07 01:45:06   \n",
       "4  🖊️Official Twitter handle of Department of Inf...  2017-02-12 06:45:15   \n",
       "5  🎼  #Новоро́ссия #Novorossiya #оставайсядома #S...  2018-03-19 16:29:52   \n",
       "6  Workplace tips and advice served up in a frien...  2008-08-12 18:19:49   \n",
       "7                                                NaN  2012-02-03 18:08:10   \n",
       "8   A poet, reiki practitioner and a student of law.  2015-04-25 08:15:41   \n",
       "9  Just as the body is one & has many members, & ...  2014-08-17 04:53:22   \n",
       "\n",
       "   user_followers  user_friends  user_favourites  user_verified  \\\n",
       "0             624           950            18775          False   \n",
       "1            2253          1677               24           True   \n",
       "2            9275          9525             7254          False   \n",
       "3             197           987             1488          False   \n",
       "4          101009           168              101          False   \n",
       "5            1180          1071             1287          False   \n",
       "6           79956         54810             3801          False   \n",
       "7             608           355               95          False   \n",
       "8              25            29               18          False   \n",
       "9           55201         34239            29802          False   \n",
       "\n",
       "                  date                                               text  \\\n",
       "0  2020-07-25 12:27:21  [smell, scent, hand, sanit, today, someon, pas...   \n",
       "1  2020-07-25 12:27:17  [hey, yanke, yankeespr, mlb, wouldnt, made, se...   \n",
       "2  2020-07-25 12:27:14  [diane3443, wdunlap, realdonaldtrump, trump, n...   \n",
       "3  2020-07-25 12:27:10  [brookbanktv, one, gift, covid19, give, apprec...   \n",
       "4  2020-07-25 12:27:08  [25, juli, media, bulletin, novel, coronavirus...   \n",
       "5  2020-07-25 12:27:06  [coronaviru, covid19, death, continu, rise, al...   \n",
       "6  2020-07-25 12:27:03  [covid19, chang, work, gener, recruit, specif,...   \n",
       "7  2020-07-25 12:27:00  [wear, face, cover, shop, includ, visit, local...   \n",
       "8  2020-07-25 12:26:59  [pray, good, health, recoveri, chouhanshivraj,...   \n",
       "9  2020-07-25 12:26:54  [pope, god, prophet, sadhu, sundar, selvaraj, ...   \n",
       "\n",
       "                            hashtags               source  is_retweet  \n",
       "0                                NaN   Twitter for iPhone       False  \n",
       "1                                NaN  Twitter for Android       False  \n",
       "2                        ['COVID19']  Twitter for Android       False  \n",
       "3                        ['COVID19']   Twitter for iPhone       False  \n",
       "4  ['CoronaVirusUpdates', 'COVID19']  Twitter for Android       False  \n",
       "5         ['coronavirus', 'covid19']      Twitter Web App       False  \n",
       "6          ['COVID19', 'Recruiting']               Buffer       False  \n",
       "7                                NaN            TweetDeck       False  \n",
       "8       ['covid19', 'covidPositive']  Twitter for Android       False  \n",
       "9      ['HurricaneHanna', 'COVID19']   Twitter for iPhone       False  "
      ]
     },
     "execution_count": 28,
     "metadata": {},
     "output_type": "execute_result"
    }
   ],
   "source": [
    "subset = data[:10]\n",
    "subset"
   ]
  },
  {
   "cell_type": "code",
   "execution_count": 33,
   "id": "03fa6271",
   "metadata": {},
   "outputs": [
    {
     "data": {
      "text/plain": [
       "['smell',\n",
       " 'scent',\n",
       " 'hand',\n",
       " 'sanit',\n",
       " 'today',\n",
       " 'someon',\n",
       " 'past',\n",
       " 'would',\n",
       " 'think',\n",
       " 'intox',\n",
       " 'that…',\n",
       " 'httpstcoqzvybrogb0',\n",
       " 'hey',\n",
       " 'yanke',\n",
       " 'yankeespr',\n",
       " 'mlb',\n",
       " 'wouldnt',\n",
       " 'made',\n",
       " 'sens',\n",
       " 'player',\n",
       " 'pay',\n",
       " 'respect',\n",
       " 'a…',\n",
       " 'httpstco1qvw0zgypu',\n",
       " 'diane3443',\n",
       " 'wdunlap',\n",
       " 'realdonaldtrump',\n",
       " 'trump',\n",
       " 'never',\n",
       " 'claim',\n",
       " 'covid19',\n",
       " 'hoax',\n",
       " 'claim',\n",
       " 'effort',\n",
       " 'to…',\n",
       " 'httpstcojkk8vhwhb3',\n",
       " 'brookbanktv',\n",
       " 'one',\n",
       " 'gift',\n",
       " 'covid19',\n",
       " 'give',\n",
       " 'appreci',\n",
       " 'simpl',\n",
       " 'thing',\n",
       " 'alway',\n",
       " 'around',\n",
       " 'me…',\n",
       " 'httpstcoz0poalfxcw',\n",
       " '25',\n",
       " 'juli',\n",
       " 'media',\n",
       " 'bulletin',\n",
       " 'novel',\n",
       " 'coronavirusupd',\n",
       " 'covid19',\n",
       " 'kansalrohit69',\n",
       " 'drsyedsehrish',\n",
       " 'airnewsalert',\n",
       " 'ani…',\n",
       " 'httpstcomn0eecsjhh',\n",
       " 'coronaviru',\n",
       " 'covid19',\n",
       " 'death',\n",
       " 'continu',\n",
       " 'rise',\n",
       " 'almost',\n",
       " 'bad',\n",
       " 'ever',\n",
       " 'politician',\n",
       " 'busi',\n",
       " 'want…',\n",
       " 'httpstcohxmhooxx2c',\n",
       " 'covid19',\n",
       " 'chang',\n",
       " 'work',\n",
       " 'gener',\n",
       " 'recruit',\n",
       " 'specif',\n",
       " 'via',\n",
       " 'proactivetal',\n",
       " 'recruiting…',\n",
       " 'httpstcobjzxzgpmbk',\n",
       " 'wear',\n",
       " 'face',\n",
       " 'cover',\n",
       " 'shop',\n",
       " 'includ',\n",
       " 'visit',\n",
       " 'local',\n",
       " 'commun',\n",
       " 'pharmacy…',\n",
       " 'httpstcoosu5q4kdd7',\n",
       " 'pray',\n",
       " 'good',\n",
       " 'health',\n",
       " 'recoveri',\n",
       " 'chouhanshivraj',\n",
       " 'covid19',\n",
       " 'covidposit',\n",
       " 'pope',\n",
       " 'god',\n",
       " 'prophet',\n",
       " 'sadhu',\n",
       " 'sundar',\n",
       " 'selvaraj',\n",
       " 'watch',\n",
       " 'httpstco7x5rtykvji',\n",
       " 'hurricanehanna',\n",
       " 'covid19…',\n",
       " 'httpstco06dzcgunwl']"
      ]
     },
     "execution_count": 33,
     "metadata": {},
     "output_type": "execute_result"
    }
   ],
   "source": [
    "all_words = subset.text.sum()\n",
    "all_words\n"
   ]
  },
  {
   "cell_type": "code",
   "execution_count": 34,
   "id": "84152367",
   "metadata": {},
   "outputs": [
    {
     "data": {
      "text/html": [
       "<style>#sk-container-id-2 {color: black;background-color: white;}#sk-container-id-2 pre{padding: 0;}#sk-container-id-2 div.sk-toggleable {background-color: white;}#sk-container-id-2 label.sk-toggleable__label {cursor: pointer;display: block;width: 100%;margin-bottom: 0;padding: 0.3em;box-sizing: border-box;text-align: center;}#sk-container-id-2 label.sk-toggleable__label-arrow:before {content: \"▸\";float: left;margin-right: 0.25em;color: #696969;}#sk-container-id-2 label.sk-toggleable__label-arrow:hover:before {color: black;}#sk-container-id-2 div.sk-estimator:hover label.sk-toggleable__label-arrow:before {color: black;}#sk-container-id-2 div.sk-toggleable__content {max-height: 0;max-width: 0;overflow: hidden;text-align: left;background-color: #f0f8ff;}#sk-container-id-2 div.sk-toggleable__content pre {margin: 0.2em;color: black;border-radius: 0.25em;background-color: #f0f8ff;}#sk-container-id-2 input.sk-toggleable__control:checked~div.sk-toggleable__content {max-height: 200px;max-width: 100%;overflow: auto;}#sk-container-id-2 input.sk-toggleable__control:checked~label.sk-toggleable__label-arrow:before {content: \"▾\";}#sk-container-id-2 div.sk-estimator input.sk-toggleable__control:checked~label.sk-toggleable__label {background-color: #d4ebff;}#sk-container-id-2 div.sk-label input.sk-toggleable__control:checked~label.sk-toggleable__label {background-color: #d4ebff;}#sk-container-id-2 input.sk-hidden--visually {border: 0;clip: rect(1px 1px 1px 1px);clip: rect(1px, 1px, 1px, 1px);height: 1px;margin: -1px;overflow: hidden;padding: 0;position: absolute;width: 1px;}#sk-container-id-2 div.sk-estimator {font-family: monospace;background-color: #f0f8ff;border: 1px dotted black;border-radius: 0.25em;box-sizing: border-box;margin-bottom: 0.5em;}#sk-container-id-2 div.sk-estimator:hover {background-color: #d4ebff;}#sk-container-id-2 div.sk-parallel-item::after {content: \"\";width: 100%;border-bottom: 1px solid gray;flex-grow: 1;}#sk-container-id-2 div.sk-label:hover label.sk-toggleable__label {background-color: #d4ebff;}#sk-container-id-2 div.sk-serial::before {content: \"\";position: absolute;border-left: 1px solid gray;box-sizing: border-box;top: 0;bottom: 0;left: 50%;z-index: 0;}#sk-container-id-2 div.sk-serial {display: flex;flex-direction: column;align-items: center;background-color: white;padding-right: 0.2em;padding-left: 0.2em;position: relative;}#sk-container-id-2 div.sk-item {position: relative;z-index: 1;}#sk-container-id-2 div.sk-parallel {display: flex;align-items: stretch;justify-content: center;background-color: white;position: relative;}#sk-container-id-2 div.sk-item::before, #sk-container-id-2 div.sk-parallel-item::before {content: \"\";position: absolute;border-left: 1px solid gray;box-sizing: border-box;top: 0;bottom: 0;left: 50%;z-index: -1;}#sk-container-id-2 div.sk-parallel-item {display: flex;flex-direction: column;z-index: 1;position: relative;background-color: white;}#sk-container-id-2 div.sk-parallel-item:first-child::after {align-self: flex-end;width: 50%;}#sk-container-id-2 div.sk-parallel-item:last-child::after {align-self: flex-start;width: 50%;}#sk-container-id-2 div.sk-parallel-item:only-child::after {width: 0;}#sk-container-id-2 div.sk-dashed-wrapped {border: 1px dashed gray;margin: 0 0.4em 0.5em 0.4em;box-sizing: border-box;padding-bottom: 0.4em;background-color: white;}#sk-container-id-2 div.sk-label label {font-family: monospace;font-weight: bold;display: inline-block;line-height: 1.2em;}#sk-container-id-2 div.sk-label-container {text-align: center;}#sk-container-id-2 div.sk-container {/* jupyter's `normalize.less` sets `[hidden] { display: none; }` but bootstrap.min.css set `[hidden] { display: none !important; }` so we also need the `!important` here to be able to override the default hidden behavior on the sphinx rendered scikit-learn.org. See: https://github.com/scikit-learn/scikit-learn/issues/21755 */display: inline-block !important;position: relative;}#sk-container-id-2 div.sk-text-repr-fallback {display: none;}</style><div id=\"sk-container-id-2\" class=\"sk-top-container\"><div class=\"sk-text-repr-fallback\"><pre>OneHotEncoder()</pre><b>In a Jupyter environment, please rerun this cell to show the HTML representation or trust the notebook. <br />On GitHub, the HTML representation is unable to render, please try loading this page with nbviewer.org.</b></div><div class=\"sk-container\" hidden><div class=\"sk-item\"><div class=\"sk-estimator sk-toggleable\"><input class=\"sk-toggleable__control sk-hidden--visually\" id=\"sk-estimator-id-2\" type=\"checkbox\" checked><label for=\"sk-estimator-id-2\" class=\"sk-toggleable__label sk-toggleable__label-arrow\">OneHotEncoder</label><div class=\"sk-toggleable__content\"><pre>OneHotEncoder()</pre></div></div></div></div></div>"
      ],
      "text/plain": [
       "OneHotEncoder()"
      ]
     },
     "execution_count": 34,
     "metadata": {},
     "output_type": "execute_result"
    }
   ],
   "source": [
    "enc = OneHotEncoder()\n",
    "enc.fit(np.array(all_words).reshape(-1, 1))"
   ]
  },
  {
   "cell_type": "code",
   "execution_count": 37,
   "id": "77efde2b",
   "metadata": {},
   "outputs": [],
   "source": [
    "vectors = subset.text.apply(lambda x: enc.transform(np.array(x).reshape(-1, 1)).toarray())"
   ]
  },
  {
   "cell_type": "code",
   "execution_count": 38,
   "id": "4d960584",
   "metadata": {},
   "outputs": [
    {
     "data": {
      "text/plain": [
       "0    [[0.0, 0.0, 0.0, 0.0, 0.0, 0.0, 0.0, 0.0, 0.0,...\n",
       "1    [[0.0, 0.0, 0.0, 0.0, 0.0, 0.0, 0.0, 0.0, 0.0,...\n",
       "2    [[0.0, 0.0, 0.0, 0.0, 0.0, 0.0, 0.0, 0.0, 0.0,...\n",
       "3    [[0.0, 0.0, 0.0, 0.0, 0.0, 0.0, 0.0, 0.0, 0.0,...\n",
       "4    [[1.0, 0.0, 0.0, 0.0, 0.0, 0.0, 0.0, 0.0, 0.0,...\n",
       "5    [[0.0, 0.0, 0.0, 0.0, 0.0, 0.0, 0.0, 0.0, 0.0,...\n",
       "6    [[0.0, 0.0, 0.0, 0.0, 0.0, 0.0, 0.0, 0.0, 0.0,...\n",
       "7    [[0.0, 0.0, 0.0, 0.0, 0.0, 0.0, 0.0, 0.0, 0.0,...\n",
       "8    [[0.0, 0.0, 0.0, 0.0, 0.0, 0.0, 0.0, 0.0, 0.0,...\n",
       "9    [[0.0, 0.0, 0.0, 0.0, 0.0, 0.0, 0.0, 0.0, 0.0,...\n",
       "Name: text, dtype: object"
      ]
     },
     "execution_count": 38,
     "metadata": {},
     "output_type": "execute_result"
    }
   ],
   "source": [
    "vectors"
   ]
  }
 ],
 "metadata": {
  "kernelspec": {
   "display_name": "Python 3 (ipykernel)",
   "language": "python",
   "name": "python3"
  },
  "language_info": {
   "codemirror_mode": {
    "name": "ipython",
    "version": 3
   },
   "file_extension": ".py",
   "mimetype": "text/x-python",
   "name": "python",
   "nbconvert_exporter": "python",
   "pygments_lexer": "ipython3",
   "version": "3.8.12"
  }
 },
 "nbformat": 4,
 "nbformat_minor": 5
}
